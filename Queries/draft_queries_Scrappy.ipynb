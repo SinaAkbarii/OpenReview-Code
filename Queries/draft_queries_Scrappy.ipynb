{
 "cells": [
  {
   "cell_type": "markdown",
   "id": "18e1e258-0569-4801-a8a8-821470d191f1",
   "metadata": {
    "tags": []
   },
   "source": [
    "# Draft of Queries\n",
    "\n",
    "This notebook contains a mishmash of different code blocks and queries made to help in the preparation of UAI 2023. The following code was built using v1.33 and v.1.34 of OpenReview.\n",
    "\n",
    "https://github.com/openreview/openreview-py/tags"
   ]
  },
  {
   "cell_type": "markdown",
   "id": "263c623a-fd8a-4a54-a271-cc941356e83c",
   "metadata": {},
   "source": [
    "## Initialisation\n",
    "Make sure to have your credentials stored in `../credentials.py` or adjust the code accordingly. The format should be\n",
    "\n",
    "```\n",
    "{\"username\": \"user@institution.ac.uk\", \"password\": \"asdfasdfasdf\"}\n",
    "```"
   ]
  },
  {
   "cell_type": "code",
   "execution_count": 3,
   "id": "fbd2086b-e1a1-4181-9af9-46e8e1b68dc9",
   "metadata": {
    "tags": []
   },
   "outputs": [
    {
     "name": "stdout",
     "output_type": "stream",
     "text": [
      "CPU times: user 338 ms, sys: 43 ms, total: 381 ms\n",
      "Wall time: 3.58 s\n"
     ]
    }
   ],
   "source": [
    "%%time\n",
    "# For approved details\n",
    "import json\n",
    "\n",
    "from geopy.geocoders import Nominatim\n",
    "import numpy as np\n",
    "import pandas as pd\n",
    "from tqdm import tqdm\n",
    "import openreview\n",
    "\n",
    "\n",
    "def get_country(university):\n",
    "    geolocator = Nominatim(user_agent=\"my_app\")\n",
    "    try:\n",
    "        location = geolocator.geocode(university, language=\"en\", namedetails=True, addressdetails=True)\n",
    "        return location.raw['address']['country']\n",
    "    except:\n",
    "        return 'Unknown'\n",
    "    \n",
    "\n",
    "with open(r'../credentials.py') as f:\n",
    "    credentials = json.load(f)\n",
    "    \n",
    "with open(r'../credentials.py') as f:\n",
    "    credentials = json.load(f)\n",
    "    \n",
    "client = openreview.Client(\n",
    "    baseurl='https://api.openreview.net', \n",
    "    username=f\"{credentials['username']}\", \n",
    "    password=f\"{credentials['password']}\"\n",
    ")\n",
    "\n",
    "venue_id='auai.org/UAI/2023/Conference'\n",
    "blind_submissions = client.get_all_notes(\n",
    "    invitation=venue_id+\"/-/Blind_Submission\",\n",
    "    details='directReplies'\n",
    ")\n",
    "unblinded_submissions = client.get_all_notes(\n",
    "    invitation=venue_id+\"/-/Submission\",\n",
    "    details='directReplies'\n",
    ")"
   ]
  },
  {
   "cell_type": "markdown",
   "id": "e0442492-d7da-4600-80fd-e3346934f0e2",
   "metadata": {},
   "source": [
    "## 1. Measuring Review Length\n",
    "\n",
    "This was used to assess the contribution of reviewers to the event by measuring the total comment length across all their papers."
   ]
  },
  {
   "cell_type": "code",
   "execution_count": null,
   "id": "1400c562-d280-4c4c-9324-45ddbcb7f78b",
   "metadata": {
    "tags": []
   },
   "outputs": [],
   "source": [
    "results_list = []\n",
    "comments_list = []\n",
    "author_comment_list = []\n",
    "for submission in tqdm(blind_submissions):\n",
    "    title = submission.content['title']\n",
    "    number = submission.number\n",
    "    authors = submission.content['authors']\n",
    "    authorids = submission.content['authorids']\n",
    "    paper_decision = submission.details['directReplies'][-1]['content']['decision']\n",
    "    \n",
    "    direct_replies = submission.details['directReplies']\n",
    "    \n",
    "    author_response_count = 0\n",
    "    author_response_length = 0\n",
    "    for reply in direct_replies:\n",
    "        if reply['invitation'].endswith(\"Official_Review\"):\n",
    "            reviewer = client.get_groups(reply['signatures'])[0].members[0]\n",
    "            str_comments = (\n",
    "                reply['content']['Q3 Main strengths'] + \n",
    "                reply['content']['Q4 Main weakness'] +\n",
    "                reply['content']['Q5 Detailed comments to the authors']\n",
    "            )\n",
    "            length_comments = len(str_comments)\n",
    "            reviewer_paper_rating = int(reply['content']['Q6 Overall score'][0])\n",
    "            reviewer_accept_or_reject = reviewer_paper_rating > 4\n",
    "            \n",
    "            results_list.append([\n",
    "                  title, number, paper_decision, reviewer, length_comments, reviewer_paper_rating, reviewer_accept_or_reject\n",
    "            ])\n",
    "        if reply['invitation'].endswith(\"Official_Comment\"):\n",
    "            if any(['Reviewer' in x_i for x_i in reply['signatures']]):\n",
    "                reviewer = client.get_groups(reply['signatures'])[0].members[0]\n",
    "                comments_list.append([\n",
    "                      title, number, reviewer, 1\n",
    "                ])\n",
    "            if any(['Authors' in x_i for x_i in reply['signatures']]):\n",
    "                author_response_count += 1\n",
    "                author_response_length += len(reply['content']['comment'])\n",
    "    author_comment_list.append([\n",
    "          number, author_response_count, author_response_length\n",
    "    ])"
   ]
  },
  {
   "cell_type": "code",
   "execution_count": null,
   "id": "4b7db309-2b86-4879-a4d5-f112103d99ef",
   "metadata": {
    "tags": []
   },
   "outputs": [],
   "source": [
    "reviews_df = pd.DataFrame(results_list, columns=['title', 'paper_number', 'meta_reviewer_decision', 'reviewer', 'length_comments', 'reviewer_rating', 'reviewer_accept_or_reject'])\n",
    "comments_df = pd.DataFrame(comments_list, columns=['title', 'paper_number', 'reviewer', 'number_of_comments'])\n",
    "author_comment_df = pd.DataFrame(author_comment_list, columns=['paper_number', 'num_author_comments', 'length_author_comments']).drop_duplicates()\n",
    "comments_df = comments_df.groupby(['title', 'paper_number', 'reviewer'])[['number_of_comments']].sum().reset_index()\n",
    "results_total_df = pd.merge(reviews_df, comments_df, on=['title', 'paper_number', 'reviewer'], how='left')\n",
    "results_total_df = pd.merge(results_total_df, author_comment_df, on=['paper_number'], how='left').fillna(0)\n",
    "results_total_df.to_csv('review_lengths.csv', index=False)"
   ]
  },
  {
   "cell_type": "code",
   "execution_count": null,
   "id": "4605778a-635a-4a92-bc51-e7ca442f90ed",
   "metadata": {
    "tags": []
   },
   "outputs": [],
   "source": [
    "results_total_df.to_csv('review_lengths.csv', index=False)"
   ]
  },
  {
   "cell_type": "markdown",
   "id": "cfcdc18f-8c05-4a72-83fd-c1180c743c0e",
   "metadata": {},
   "source": [
    "## 2. Details of Conference Participants"
   ]
  },
  {
   "cell_type": "markdown",
   "id": "0474a96c-101b-493e-ba4e-7323f71ce60f",
   "metadata": {},
   "source": [
    "### 2a. Details of Accepted Paper Authors (Plus MSFT affiliation)\n",
    "\n",
    "This code chunk gets the author list for all accepted papers, finds their instituion, and estimates the country of their institution (using the `get_country` function).\n",
    "\n",
    "It also does a hacky way of flagging Microsoft affiliation of authors (checking that they have an affiliation with MSFT that has not ended). This can be modified throught changing the function `find_microsoft_affiliation`."
   ]
  },
  {
   "cell_type": "code",
   "execution_count": 17,
   "id": "da497753-8067-43ac-8407-9c748ad1df3f",
   "metadata": {
    "tags": []
   },
   "outputs": [
    {
     "name": "stdout",
     "output_type": "stream",
     "text": [
      "CPU times: user 301 ms, sys: 39.1 ms, total: 340 ms\n",
      "Wall time: 3.3 s\n"
     ]
    }
   ],
   "source": [
    "%%time\n",
    "# For approved details\n",
    "import json\n",
    "\n",
    "from geopy.geocoders import Nominatim\n",
    "import numpy as np\n",
    "import pandas as pd\n",
    "from tqdm import tqdm\n",
    "import openreview\n",
    "\n",
    "\n",
    "def get_country(university):\n",
    "    geolocator = Nominatim(user_agent=\"my_app\")\n",
    "    try:\n",
    "        location = geolocator.geocode(university, language=\"en\", namedetails=True, addressdetails=True)\n",
    "        return location.raw['address']['country']\n",
    "    except:\n",
    "        return 'Unknown'\n",
    "    \n",
    "def find_microsoft_affiliation(hist):\n",
    "    current_msft_affiliation = False\n",
    "    for position in hist:\n",
    "        if (position['end'] == None) and ('microsoft' in position['institution']['name'].lower()):\n",
    "            current_msft_affiliation = True\n",
    "    return current_msft_affiliation\n",
    "    \n",
    "with open(r'../credentials.py') as f:\n",
    "    credentials = json.load(f)\n",
    "    \n",
    "client = openreview.Client(\n",
    "    baseurl='https://api.openreview.net', \n",
    "    username=f\"{credentials['username']}\", \n",
    "    password=f\"{credentials['password']}\"\n",
    ")\n",
    "\n",
    "venue_id='auai.org/UAI/2023/Conference'\n",
    "blind_submissions = client.get_all_notes(\n",
    "    invitation=venue_id+\"/-/Blind_Submission\",\n",
    "    details='directReplies'\n",
    ")\n",
    "unblinded_submissions = client.get_all_notes(\n",
    "    invitation=venue_id+\"/-/Submission\",\n",
    "    details='directReplies'\n",
    ")"
   ]
  },
  {
   "cell_type": "code",
   "execution_count": null,
   "id": "b540963e-09f4-49f2-9f37-007572430813",
   "metadata": {
    "tags": []
   },
   "outputs": [],
   "source": [
    "%%time\n",
    "unblinded_details = []\n",
    "for submission in tqdm(unblinded_submissions):\n",
    "    title = submission.content['title']\n",
    "    number = submission.number\n",
    "    authors = submission.content['authors']\n",
    "    authorids = submission.content['authorids']\n",
    "                    \n",
    "    for i, authorid in enumerate(authorids):\n",
    "        try:\n",
    "            author_email = openreview.tools.get_profiles(client, [f'{authorid}'])[0].content['preferredEmail']\n",
    "            author_hist = client.get_profile(authorid).content['history']\n",
    "            current_institution = author_hist[0]['institution']['name']\n",
    "            current_msft_affiliation = find_microsoft_affiliation(author_hist)\n",
    "            unblinded_details.append([\n",
    "                title, number, authors[i], author_email, current_institution, current_msft_affiliation\n",
    "            ])\n",
    "        except:\n",
    "            author_email = 'NaN'\n",
    "            current_institution = 'NaN'\n",
    "            unblinded_details.append([\n",
    "                title, number, authors[i], author_email, current_institution\n",
    "            ])\n",
    "\n",
    "blinded_results = []                               \n",
    "for submission in tqdm(blind_submissions):\n",
    "    number = submission.number\n",
    "    print(submission)\n",
    "    decision = submission.details['directReplies'][-1]['content']['decision']\n",
    "    blinded_results.append([\n",
    "        number, decision\n",
    "    ])"
   ]
  },
  {
   "cell_type": "code",
   "execution_count": null,
   "id": "66eb930c-09fa-4267-97c6-6590aae74615",
   "metadata": {
    "tags": []
   },
   "outputs": [],
   "source": [
    "unblinded_details_df = pd.DataFrame(unblinded_details, columns=['title', 'paper_id', 'author', 'email', 'institution', 'current_msft_affiliation'])\n",
    "blinded_details_df = pd.DataFrame(blinded_results, columns=['paper_id', 'decision'])\n",
    "full_results = pd.merge(unblinded_details_df, blinded_details_df, on='paper_id')\n",
    "full_results_filtered = full_results.loc[full_results['decision'] != 'Reject']\n",
    "# full_results_filtered['contains_microsoft'] = full_results_filtered['institution'].str.lower().str.contains('microsoft')\n",
    "full_results_filtered.to_csv('msft_flag.csv')"
   ]
  },
  {
   "cell_type": "code",
   "execution_count": null,
   "id": "95837f36-6822-400c-b284-17cb3a000622",
   "metadata": {
    "tags": []
   },
   "outputs": [],
   "source": [
    "full_results_filtered.groupby('paper_id')['current_msft_affiliation'].agg(any).value_counts()"
   ]
  },
  {
   "cell_type": "markdown",
   "id": "eb2426c8-1ba5-41eb-9c1b-b0f888b0d99b",
   "metadata": {},
   "source": [
    "### 2b. Details of Area Chairs and Reviewers"
   ]
  },
  {
   "cell_type": "code",
   "execution_count": 27,
   "id": "d4672b56-1b4f-4332-9719-00f4c2f661fa",
   "metadata": {
    "tags": []
   },
   "outputs": [
    {
     "name": "stdout",
     "output_type": "stream",
     "text": [
      "CPU times: user 3.39 s, sys: 519 ms, total: 3.91 s\n",
      "Wall time: 2min 11s\n"
     ]
    }
   ],
   "source": [
    "%%time\n",
    "reviewers = client.get_group(venue_id+'/Reviewers')\n",
    "area_chairs = client.get_group(venue_id+'/Area_Chairs')\n",
    "\n",
    "details = []\n",
    "for ac in area_chairs.members:\n",
    "    try:\n",
    "        ac_hist = client.get_profile(ac).content['history']\n",
    "        current_institution = ac_hist[0]['institution']['name']\n",
    "        current_msft_affiliation = find_microsoft_affiliation(ac_hist)\n",
    "        details.append(['AC', ac, current_institution, current_msft_affiliation])\n",
    "    except:\n",
    "        pass\n",
    "    \n",
    "for reviewer in reviewers.members:\n",
    "    try:\n",
    "        reviewer_hist = client.get_profile(reviewer).content['history']\n",
    "        current_institution = reviewer_hist[0]['institution']['name']\n",
    "        current_msft_affiliation = find_microsoft_affiliation(reviewer_hist)\n",
    "        details.append(['Reviewer', reviewer, current_institution, current_msft_affiliation])\n",
    "    except:\n",
    "        pass\n",
    "\n",
    "details_df = pd.DataFrame(details, columns=['Role', 'ID', 'Current_Institution', 'Current_MSFT_Affiliation'])"
   ]
  },
  {
   "cell_type": "code",
   "execution_count": 29,
   "id": "b07b81ca-8142-4237-bfd7-8a74808fcd0c",
   "metadata": {
    "tags": []
   },
   "outputs": [
    {
     "data": {
      "text/plain": [
       "Role\n",
       "Reviewer    785\n",
       "AC           79\n",
       "Name: count, dtype: int64"
      ]
     },
     "execution_count": 29,
     "metadata": {},
     "output_type": "execute_result"
    }
   ],
   "source": [
    "details_df['Role'].value_counts()"
   ]
  },
  {
   "cell_type": "code",
   "execution_count": 30,
   "id": "0d35208c-4af0-416b-9a3f-e816f010a378",
   "metadata": {
    "tags": []
   },
   "outputs": [
    {
     "data": {
      "text/plain": [
       "Role\n",
       "AC          2\n",
       "Reviewer    9\n",
       "Name: Current_MSFT_Affiliation, dtype: int64"
      ]
     },
     "execution_count": 30,
     "metadata": {},
     "output_type": "execute_result"
    }
   ],
   "source": [
    "details_df.groupby('Role')['Current_MSFT_Affiliation'].agg(sum)"
   ]
  },
  {
   "cell_type": "markdown",
   "id": "5c499bef-7d60-4c12-b838-0a86251aaf16",
   "metadata": {},
   "source": [
    "## 3. Obtaining Review Scores\n",
    "\n",
    "This chunk contains a hacky way of extracting the overall review scores for all papers."
   ]
  },
  {
   "cell_type": "code",
   "execution_count": null,
   "id": "a53a9467-e2b5-427f-b48e-b87da26c9d83",
   "metadata": {
    "tags": []
   },
   "outputs": [],
   "source": [
    "%%time\n",
    "import json\n",
    "\n",
    "from geopy.geocoders import Nominatim\n",
    "import numpy as np\n",
    "import pandas as pd\n",
    "from tqdm import tqdm\n",
    "import openreview\n",
    "\n",
    "\n",
    "def get_country(university):\n",
    "    geolocator = Nominatim(user_agent=\"my_app\")\n",
    "    try:\n",
    "        location = geolocator.geocode(university, language=\"en\", namedetails=True, addressdetails=True)\n",
    "        return location.raw['address']['country']\n",
    "    except:\n",
    "        return 'Unknown'\n",
    "    \n",
    "\n",
    "with open(r'../credentials.py') as f:\n",
    "    credentials = json.load(f)\n",
    "    \n",
    "client = openreview.Client(\n",
    "    baseurl='https://api.openreview.net', \n",
    "    username=f\"{credentials['username']}\", \n",
    "    password=f\"{credentials['password']}\"\n",
    ")\n",
    "\n",
    "venue_id='auai.org/UAI/2023/Conference'\n",
    "blind_submissions = client.get_all_notes(\n",
    "    invitation=venue_id+\"/-/Blind_Submission\",\n",
    "    details='directReplies'\n",
    ")\n",
    "unblinded_submissions = client.get_all_notes(\n",
    "    invitation=venue_id+\"/-/Submission\",\n",
    "    details='directReplies'\n",
    ")\n",
    "\n",
    "institutions = [] \n",
    "unblinded_pid_list = []\n",
    "\n",
    "for submission in tqdm(unblinded_submissions):\n",
    "    first_author_id = submission.content['authorids'][0]\n",
    "    try:\n",
    "        profile = client.get_profile(first_author_id)\n",
    "        institutions.append(profile.content['history'][0]['institution']['name'])\n",
    "        unblinded_pid_list.append(submission.number)\n",
    "    except:\n",
    "        print(f\"Profile {first_author_id} not found.\")\n",
    "\n",
    "review_count = []\n",
    "blinded_pid_list = []\n",
    "review_scores_list = []\n",
    "for submission in tqdm(blind_submissions):\n",
    "    try:\n",
    "        blinded_pid_list.append(submission.number)\n",
    "        reviewer_scores = []\n",
    "        for reply in submission.details[\"directReplies\"]:\n",
    "            if reply[\"invitation\"].endswith(\"Official_Review\"):\n",
    "                if 'content' in reply and 'Q6 Overall score' in reply['content']:\n",
    "                    s = int(reply['content']['Q6 Overall score'].split(':')[0])\n",
    "                    reviewer_scores.append(s)\n",
    "        review_scores_list.append(np.mean(np.array(reviewer_scores)))\n",
    "        review_count.append(len(reviewer_scores))\n",
    "        \n",
    "    except:\n",
    "        print(f\"Profile {first_author_id} not found.\")\n",
    "        \n",
    "institutions_df = pd.DataFrame({\n",
    "    'institution': institutions,\n",
    "    'pid': unblinded_pid_list,\n",
    "})\n",
    "scores_df = pd.DataFrame({\n",
    "    'pid': blinded_pid_list,\n",
    "    'scores': review_scores_list,\n",
    "    'count': review_count\n",
    "})\n",
    "full_df = institutions_df.merge(\n",
    "    scores_df, \n",
    "    on='pid', \n",
    "    how='inner'\n",
    ").sort_values('scores', ascending=False)\n",
    "\n",
    "# Reducing size for computational ease\n",
    "full_df = full_df.iloc[1:250]\n",
    "\n",
    "institution_country_map = pd.DataFrame({'institution': full_df['institution'].to_list()}).drop_duplicates()\n",
    "institution_country_map['country'] = institution_country_map['institution'].apply(get_country)\n",
    "full_df = full_df.merge(institution_country_map, on='institution')\n",
    "full_df.loc[1:200, ['institution', 'scores', 'country']].to_csv('institution_counts.csv', index=False)"
   ]
  },
  {
   "cell_type": "code",
   "execution_count": null,
   "id": "a54ab9fa-144e-4bf3-9585-509b6b115c38",
   "metadata": {
    "tags": []
   },
   "outputs": [],
   "source": [
    "full_df.loc[1:200, ['institution', 'count', 'country']].groupby(['institution', 'country']).count().to_csv('top_responses.csv')\n",
    "full_df.loc[1:200, ['institution', 'count', 'country']].groupby('country').count()[['count']].sort_values(\n",
    "    by='count', ascending=False\n",
    ").to_csv('aggregated_institution_counts.csv')"
   ]
  },
  {
   "cell_type": "markdown",
   "id": "9be81d8b-b336-4827-8b6e-898f2b912768",
   "metadata": {},
   "source": [
    "## 4. Sending Emails\n",
    "\n",
    "This chunk contains a framework for sending papers to a subset of candidates (e.g. for when you need to target specific papers rather than just accept/reject, but when the set of papers is too large to be clicking through the OR UI!)."
   ]
  },
  {
   "cell_type": "code",
   "execution_count": null,
   "id": "70779a0f-f3e5-4c78-accc-5fe7e924c9dc",
   "metadata": {
    "tags": []
   },
   "outputs": [],
   "source": [
    "import json\n",
    "import re\n",
    "\n",
    "import pandas as pd\n",
    "from tqdm import tqdm\n",
    "import openreview\n",
    "\n",
    "poster_papers = pd.read_csv('posters.csv')\n",
    "\n",
    "with open(r'../credentials.py') as f:\n",
    "    credentials = json.load(f)\n",
    "    \n",
    "client = openreview.Client(\n",
    "    baseurl='https://api.openreview.net', \n",
    "    username=f\"{credentials['username']}\", \n",
    "    password=f\"{credentials['password']}\"\n",
    ")\n",
    "\n",
    "venue_id='auai.org/UAI/2023/Conference'\n",
    "\n",
    "blind_submissions = client.get_all_notes(\n",
    "    invitation=venue_id+\"/-/Blind_Submission\",\n",
    "    details='replies'\n",
    ")\n",
    "submissions = client.get_all_notes(\n",
    "    invitation=venue_id+\"/-/Submission\",\n",
    "    # details='replies'\n",
    ")"
   ]
  },
  {
   "cell_type": "code",
   "execution_count": null,
   "id": "e3796420-8c20-4d9d-96b2-84d4c0f94c0b",
   "metadata": {
    "tags": []
   },
   "outputs": [],
   "source": [
    "spotlight_papers = [\n",
    "\t91,190,196,227,303,325,472,617,\n",
    "\t651,707,804,56,654,186,643,297,480,\n",
    "\t79,257,294,354,476,516,556,559,\n",
    "\t41,261,747,658,611,797,764\n",
    "]"
   ]
  },
  {
   "cell_type": "markdown",
   "id": "1c892398-5fd3-44b6-9519-a68c4010c578",
   "metadata": {},
   "source": [
    "The command to send an email is shown below:"
   ]
  },
  {
   "cell_type": "code",
   "execution_count": null,
   "id": "b49620a6-1543-4c9f-9245-d4a608121b07",
   "metadata": {
    "tags": []
   },
   "outputs": [],
   "source": [
    "client.post_message(\n",
    "    subject='[UAI 2023] Spotlight Presentation Uploads',\n",
    "    recipients=['testemail@gmail.com'],\n",
    "    message=message\n",
    ")"
   ]
  },
  {
   "cell_type": "markdown",
   "id": "076a44ba-2829-41d8-bbc6-244dcbf9e6e4",
   "metadata": {},
   "source": [
    "One can create a template for the email, as a function with string args. These can be used to customise the email according to the recipient's details."
   ]
  },
  {
   "cell_type": "code",
   "execution_count": null,
   "id": "959b6ee4-e895-4852-b55d-23899210e600",
   "metadata": {
    "tags": []
   },
   "outputs": [],
   "source": [
    "def email_str_template(fullname, number, title):\n",
    "    return f\"\"\"\n",
    "Dear Discussants,\n",
    "\n",
    "As we get closer to the start of UAI, we’re looking forward to hearing about\n",
    "the exciting new research in our community! To facilitate easy transition of\n",
    "speakers during the sessions, please upload your discussions as a PDF using \n",
    "the Google form linked below by July 28, AOE.\n",
    "\n",
    "https://forms.gle/wh1pbXwNRyTrjL2C9\n",
    "\n",
    "Reminder that discussions are short two minute presentations that are meant \n",
    "to provide brief commentary, constructive criticism, or highlight key takeaways,\n",
    "so please have no more than two slides, excluding the title slide.\n",
    "\n",
    "We look forward to seeing you next week!\n",
    "\n",
    "All the best,\n",
    "\n",
    "Robin Evans and Ilya Shpitser\n",
    "UAI 2023 Program Chairs\n",
    "uai2023programchairs@gmail.com\n",
    "\"\"\"\n",
    "\n",
    "paper_numbers = spotlight_papers\n",
    "\n",
    "i = 0\n",
    "j = 0\n",
    "for sub in tqdm(submissions):\n",
    "    content = sub.content\n",
    "    number = sub.number\n",
    "    title = content['title']\n",
    "    authorids = content['authorids']\n",
    "    authornames = content['authors']\n",
    "    j += 1\n",
    "    # if number in poster_papers_df['number'].values:\n",
    "    # if number in paper_numbers:\n",
    "    #     for name, author_id in zip(authornames, authorids):\n",
    "    #         message = email_str_template(name, number, title)\n",
    "    #         # client.post_message(\n",
    "    #         #     subject='[UAI 2023] Reminder to submit Camera-Ready including source files',\n",
    "    #         #     recipients=[author_id],\n",
    "    #         #     message=message\n",
    "    #         # )\n",
    "    #         print(message)\n",
    "    #         i += 1\n",
    "    if number in paper_numbers:\n",
    "        print(authorids, number)\n",
    "        message = email_str_template('', number, title)\n",
    "        # client.post_message(\n",
    "        #     subject='[UAI 2023] Spotlight Presentation Uploads',\n",
    "        #     recipients=authorids,\n",
    "        #     message=message\n",
    "        # )\n",
    "        print(message)\n",
    "        i += 1            "
   ]
  },
  {
   "cell_type": "code",
   "execution_count": null,
   "id": "75f14a91-ff0f-4617-8925-197a72096fc4",
   "metadata": {
    "tags": []
   },
   "outputs": [],
   "source": [
    "discussant_emails = [\n",
    "    '...'\n",
    "]\n",
    "\n",
    "def email_str_template(fullname, number, title):\n",
    "    return f\"\"\"\n",
    "Dear Discussants,\n",
    "\n",
    "As we get closer to the start of UAI, we’re looking forward to hearing about\n",
    "the exciting new research in our community! To facilitate easy transition of\n",
    "speakers during the sessions, please upload your discussions as a PDF using \n",
    "the Google form linked below by July 28, AOE.\n",
    "\n",
    "https://forms.gle/wh1pbXwNRyTrjL2C9\n",
    "\n",
    "Reminder that discussions are short two minute presentations that are meant \n",
    "to provide brief commentary, constructive criticism, or highlight key takeaways,\n",
    "so please have no more than two slides, excluding the title slide.\n",
    "\n",
    "We look forward to seeing you next week!\n",
    "\n",
    "All the best,\n",
    "\n",
    "Robin Evans and Ilya Shpitser\n",
    "UAI 2023 Program Chairs\n",
    "uai2023programchairs@gmail.com\n",
    "\"\"\"\n",
    "\n",
    "message = email_str_template('', number, title)\n",
    "client.post_message(\n",
    "    subject='[UAI 2023] Discussant Slides Uploads',\n",
    "    # recipients=['testemail@gmail.com'],\n",
    "    recipients=discussant_emails,\n",
    "    message=message\n",
    ")"
   ]
  },
  {
   "cell_type": "code",
   "execution_count": null,
   "id": "c04c6c8f-785a-4454-b7d0-b6bfeadb2455",
   "metadata": {
    "tags": []
   },
   "outputs": [],
   "source": [
    "message = email_str_template('', '1234', 'asdf')\n",
    "\n",
    "client.post_message(\n",
    "    subject='[UAI 2023] Slides Deadline and Recording',\n",
    "    recipients=['testemail@gmail.com'],\n",
    "    message=message\n",
    ")"
   ]
  },
  {
   "cell_type": "code",
   "execution_count": null,
   "id": "12993178-f070-409f-aaaa-bd1749a93705",
   "metadata": {
    "tags": []
   },
   "outputs": [],
   "source": [
    "# target_papers = pd.read_csv('oral_papers.csv')#[['number', 'ac recommendation']]"
   ]
  },
  {
   "cell_type": "code",
   "execution_count": null,
   "id": "29e7f64e-e5db-4028-83fa-f0f8869e52d4",
   "metadata": {
    "tags": []
   },
   "outputs": [],
   "source": [
    "# paper_numbers = target_papers['number'].values"
   ]
  },
  {
   "cell_type": "code",
   "execution_count": null,
   "id": "88925c77-fc7a-469e-b55e-ce21f51109c3",
   "metadata": {
    "tags": []
   },
   "outputs": [],
   "source": [
    "paper_numbers = [\n",
    "1,2,3,4,5,6\n",
    "]"
   ]
  },
  {
   "cell_type": "code",
   "execution_count": null,
   "id": "391d1946-e41e-4f44-be8f-571d3153ed02",
   "metadata": {
    "tags": []
   },
   "outputs": [],
   "source": [
    "# poster_papers_df = pd.read_csv('accpt_noCRC_2023-06-08_1330.csv')\n",
    "\n",
    "# submissions = client.get_all_notes(\n",
    "#     invitation=venue_id+\"/-/Submission\",\n",
    "#     # details='replies'\n",
    "# )"
   ]
  },
  {
   "cell_type": "code",
   "execution_count": null,
   "id": "57d5ea65-75b8-4cf7-b786-73a742fdacb3",
   "metadata": {
    "tags": []
   },
   "outputs": [],
   "source": [
    "i = 0\n",
    "j = 0\n",
    "for sub in tqdm(submissions):\n",
    "    content = sub.content\n",
    "    number = sub.number\n",
    "    title = content['title']\n",
    "    authorids = content['authorids']\n",
    "    authornames = content['authors']\n",
    "    j += 1\n",
    "    # if number in poster_papers_df['number'].values:\n",
    "    # if number in paper_numbers:\n",
    "    #     for name, author_id in zip(authornames, authorids):\n",
    "    #         message = email_str_template(name, number, title)\n",
    "    #         # client.post_message(\n",
    "    #         #     subject='[UAI 2023] Reminder to submit Camera-Ready including source files',\n",
    "    #         #     recipients=[author_id],\n",
    "    #         #     message=message\n",
    "    #         # )\n",
    "    #         print(message)\n",
    "    #         i += 1\n",
    "    if number in paper_numbers:\n",
    "        print(authorids, number)\n",
    "        message = email_str_template('', number, title)\n",
    "        client.post_message(\n",
    "            subject='[UAI 2023] No authors presenting',\n",
    "            recipients=authorids,\n",
    "            message=message\n",
    "        )\n",
    "        print(message)\n",
    "        i += 1            "
   ]
  },
  {
   "cell_type": "code",
   "execution_count": null,
   "id": "b4bf9bfa-195f-4948-9e69-58d7c20a494b",
   "metadata": {
    "tags": []
   },
   "outputs": [],
   "source": [
    "submissions[437]"
   ]
  },
  {
   "cell_type": "markdown",
   "id": "0d773d0c-6e58-4220-9748-98d76e164cc8",
   "metadata": {},
   "source": [
    "## 5. Checking Camera Ready Submissions\n",
    "\n",
    "This chunk contains a very *very* hacky way of checking the camera-ready status of submissions and cross compare it against the number of revision invitations made."
   ]
  },
  {
   "cell_type": "code",
   "execution_count": null,
   "id": "2e3c7e58-1f1a-4674-a260-d9b0da0c7c23",
   "metadata": {
    "tags": []
   },
   "outputs": [],
   "source": [
    "import json\n",
    "import re\n",
    "\n",
    "import pandas as pd\n",
    "from tqdm import tqdm\n",
    "import openreview\n",
    "\n",
    "with open(r'../credentials.py') as f:\n",
    "    credentials = json.load(f)\n",
    "    \n",
    "client = openreview.Client(\n",
    "    baseurl='https://api.openreview.net', \n",
    "    username=f\"{credentials['username']}\", \n",
    "    password=f\"{credentials['password']}\"\n",
    ")\n",
    "\n",
    "venue_id='auai.org/UAI/2023/Conference'"
   ]
  },
  {
   "cell_type": "code",
   "execution_count": null,
   "id": "2a7b8ca3-eb82-4514-957f-8ff7fc87e026",
   "metadata": {
    "tags": []
   },
   "outputs": [],
   "source": [
    "revision_invitations = list(openreview.tools.iterget_invitations(client, super = f\"{venue_id}/-/Camera-Ready_Copies\", expired=True))"
   ]
  },
  {
   "cell_type": "code",
   "execution_count": null,
   "id": "18066102-bc3d-47da-8139-14513063d3c8",
   "metadata": {
    "tags": []
   },
   "outputs": [],
   "source": [
    "submissions_by_number = {p.number: p for p in client.get_all_notes(invitation = f'{venue_id}/-/Submission')}"
   ]
  },
  {
   "cell_type": "code",
   "execution_count": null,
   "id": "c9ec2b67-0934-4908-b81e-c1bfb45a94b6",
   "metadata": {
    "tags": []
   },
   "outputs": [],
   "source": [
    "revisions_by_forum = {}\n",
    "for invitation in revision_invitations: \n",
    "    number = int((invitation.id.split('/-/')[0]).split('Paper')[1])\n",
    "    submission = submissions_by_number[number]\n",
    "    references = client.get_references(referent = submission.id, invitation = invitation.id)\n",
    "    if references:\n",
    "        revisions_by_forum[submission.forum] = references\n",
    "    else:\n",
    "        pass\n",
    "        # print(f'no revisions for {number}')\n",
    "print(f'Number of revision invitations: {len(revision_invitations)}')\n",
    "print(f'Number of revisions submitted: {len(revisions_by_forum.keys())}')"
   ]
  },
  {
   "cell_type": "code",
   "execution_count": null,
   "id": "294237aa-0afd-4949-9630-48c809725570",
   "metadata": {
    "tags": []
   },
   "outputs": [],
   "source": [
    "submissions_by_number[number].content"
   ]
  },
  {
   "cell_type": "code",
   "execution_count": null,
   "id": "f960290e-9c7e-4e9b-ac81-a2240da88c90",
   "metadata": {},
   "outputs": [],
   "source": [
    "revisions_by_forum = {}\n",
    "\n",
    "not_submitted = {}\n",
    "results = []\n",
    "for invitation in revision_invitations: \n",
    "    number = int((invitation.id.split('/-/')[0]).split('Paper')[1])\n",
    "    submission = submissions_by_number[number]\n",
    "    references = client.get_references(referent = submission.id, invitation = invitation.id)\n",
    "    if references:\n",
    "        cont = submissions_by_number[number].content\n",
    "        title = cont['title']\n",
    "        authorids = '|'.join(cont['authorids'])\n",
    "        not_submitted = False\n",
    "        submitted_sup_material = cont.get('supplementary_material', False)\n",
    "        submitted_other_sup_material = cont.get('other_supplementary_material', False)\n",
    "    else:\n",
    "        cont = submissions_by_number[number].content\n",
    "        title = cont['title']\n",
    "        authorids = '|'.join(cont['authorids'])\n",
    "        not_submitted = True\n",
    "        submitted_sup_material = cont.get('supplementary_material', False)\n",
    "        submitted_other_sup_material = cont.get('other_supplementary_material', False)\n",
    "    if not_submitted:\n",
    "        results.append([number, title, authorids, not_submitted, submitted_sup_material, submitted_other_sup_material])\n",
    "    elif not all([submitted_sup_material, submitted_other_sup_material]):\n",
    "        results.append([number, title, authorids, not_submitted, submitted_sup_material, submitted_other_sup_material])\n",
    "results_df = pd.DataFrame(results, columns=['number', 'title', 'authorids', 'not_submitted', 'submitted_supplementary', 'submitted_other_supplementary'])\n",
    "        # print(f'no revisions for {number}')\n",
    "    \n",
    "results_df.to_csv('not_submitted_list.csv', index=False)\n",
    "print(f'Number of revision invitations: {len(revision_invitations)}')\n",
    "print(f'Number of revisions submitted: {len(revisions_by_forum.keys())}')"
   ]
  },
  {
   "cell_type": "code",
   "execution_count": null,
   "id": "22764fdc-47d9-40cb-a67b-0c078a5e023e",
   "metadata": {
    "tags": []
   },
   "outputs": [],
   "source": [
    "results_df.sort_values(by='number')"
   ]
  },
  {
   "cell_type": "code",
   "execution_count": null,
   "id": "a4cf05cd-5cea-4d1f-bf8f-6eaa1a616c1e",
   "metadata": {},
   "outputs": [],
   "source": [
    "_zip = client.get_attachment(id=id, field_name='other_supplementary_material')"
   ]
  },
  {
   "cell_type": "code",
   "execution_count": null,
   "id": "e28059a1-5c9f-406b-8056-68c26bf0c0fa",
   "metadata": {
    "tags": []
   },
   "outputs": [],
   "source": [
    "id = submissions_by_number[1].id\n",
    "_zip = client.get_attachment(id=id, field_name='other_supplementary_material')"
   ]
  },
  {
   "cell_type": "code",
   "execution_count": null,
   "id": "de189d11-e988-4a6d-ae46-86d92f82edd1",
   "metadata": {
    "tags": []
   },
   "outputs": [],
   "source": [
    "from pathlib import Path\n",
    "outdir = Path(\".\")\n",
    "not_submit = [1234]\n",
    "\n",
    "submissions = openreview.tools.iterget_notes(\n",
    "        client, invitation=venue_id)\n",
    "\n",
    "for l in submissions:\n",
    "    if l.number in not_submit:\n",
    "        print('\\n')\n",
    "        print(f'{l.number}: ', end=\"\")\n",
    "        print(l)\n",
    "        number = l.number\n",
    "        id = l.id\n",
    "        paper_path = outdir / f'{number}'/ 'submitted'\n",
    "        paper_path.mkdir(parents=True, exist_ok=True)\n",
    "        # latex zip\n",
    "        # check if it is correctly named as 'author_number/latex/'\n",
    "        if 'other_supplementary_material' in l.content:\n",
    "            _zip = client.get_attachment(id=id, field_name='other_supplementary_material')\n",
    "            with open(paper_path / f'{number}.zip','wb') as op:\n",
    "                op.write(_zip)\n",
    "        # author submitted pdf and supp pdf\n",
    "        with open(paper_path / f'{number}.pdf','wb') as op: \n",
    "            op.write(client.get_attachment(id=id, field_name='pdf'))\n",
    "        if 'supplementary_material' in l.content and l.content['supplementary_material']:\n",
    "            with open(paper_path / f'{number}-supp.pdf','wb') as op: \n",
    "                op.write(client.get_attachment(id=id, field_name='supplementary_material'))"
   ]
  },
  {
   "cell_type": "code",
   "execution_count": null,
   "id": "d622dcde-abb7-44fb-9269-42786d43161b",
   "metadata": {
    "tags": []
   },
   "outputs": [],
   "source": [
    "submissions_by_number[91].content"
   ]
  },
  {
   "cell_type": "markdown",
   "id": "89636cae-7650-42a8-a522-d3ecaea42c29",
   "metadata": {
    "tags": []
   },
   "source": [
    "## 6. List of authors, papers and their affiliations\n",
    "\n",
    "Simple way of checking the affiliations of the authors who submitted to the conf."
   ]
  },
  {
   "cell_type": "code",
   "execution_count": null,
   "id": "04122e2e-f1b4-4cd7-aaf0-6d5c4bd90de2",
   "metadata": {
    "tags": []
   },
   "outputs": [],
   "source": [
    "blind_submissions = client.get_all_notes(\n",
    "    invitation=venue_id+\"/-/Blind_Submission\",\n",
    "    details='replies'\n",
    ")\n",
    "submissions = client.get_all_notes(\n",
    "    invitation=venue_id+\"/-/Submissions\",\n",
    "    details='replies'\n",
    ")"
   ]
  },
  {
   "cell_type": "code",
   "execution_count": null,
   "id": "a0b25194-6214-4c30-82ab-19d3be2bc6d4",
   "metadata": {
    "tags": []
   },
   "outputs": [],
   "source": [
    "paper_outputs = []\n",
    "for b_sub in blind_submissions:\n",
    "    decision = b_sub.details['replies'][-1]['content']['decision']\n",
    "    if decision == 'Accept':\n",
    "        paper_outputs.append([\n",
    "            b_sub.content['title'],\n",
    "            b_sub.number\n",
    "        ])\n",
    "paper_outputs_df = pd.DataFrame(paper_outputs, columns=['title', 'number'])\n",
    "        \n",
    "author_paper_map = []\n",
    "for sub in submissions:\n",
    "    number = sub.number\n",
    "    for id_, author in zip(sub.content['authorids'], sub.content['authors']):\n",
    "        author_paper_map.append([\n",
    "            number, id_, author\n",
    "        ])\n",
    "author_paper_map_df = pd.DataFrame(author_paper_map, columns=['number', 'id', 'author'])\n",
    "\n",
    "partial_results_df = pd.merge(paper_outputs_df, author_paper_map_df, on='number', how='inner')"
   ]
  },
  {
   "cell_type": "code",
   "execution_count": null,
   "id": "be1f7430-2079-47d2-b34a-0c7df61665fd",
   "metadata": {
    "tags": []
   },
   "outputs": [],
   "source": [
    "author_results = openreview.tools.get_profiles(client, list(partial_results_df['id']))\n",
    "author_institution_map = []\n",
    "for result in author_results:\n",
    "    id_ = result.id\n",
    "    try:\n",
    "        institution = result.content['history'][0]['institution']['name']\n",
    "    except:\n",
    "        instituion = 'NA'\n",
    "    author_institution_map.append([\n",
    "          id_, institution\n",
    "    ])\n",
    "author_institution_map_df = pd.DataFrame(author_institution_map, columns=['id', 'institution'])\n",
    "\n",
    "full_results_df = pd.merge(partial_results_df, author_institution_map_df, on='id', how='left')"
   ]
  },
  {
   "cell_type": "code",
   "execution_count": null,
   "id": "4767a43e-5359-410b-8d7c-53448fcb2387",
   "metadata": {
    "tags": []
   },
   "outputs": [],
   "source": [
    "full_results_df"
   ]
  },
  {
   "cell_type": "code",
   "execution_count": null,
   "id": "40779592-8923-4fb6-a460-36095a835cda",
   "metadata": {
    "tags": []
   },
   "outputs": [],
   "source": [
    "full_results_df.to_csv('author_institution_map.csv', index=False)"
   ]
  },
  {
   "cell_type": "markdown",
   "id": "8e6de710-acbe-45c0-8a4d-3970442f671a",
   "metadata": {},
   "source": [
    "# 7. Change Permissions for accepted authors not to have their reviews posted publicly\n",
    "\n",
    "Was a bit of an onerous job to do this -- need to go through all the reviews, find the ID's associated with the comments, and hide them."
   ]
  },
  {
   "cell_type": "code",
   "execution_count": null,
   "id": "14215575-d99c-47b5-8745-e52212f4a43b",
   "metadata": {
    "tags": []
   },
   "outputs": [],
   "source": [
    "import json\n",
    "import re\n",
    "\n",
    "import pandas as pd\n",
    "from tqdm import tqdm\n",
    "import openreview\n",
    "\n",
    "with open(r'../credentials.py') as f:\n",
    "    credentials = json.load(f)\n",
    "    \n",
    "client = openreview.Client(\n",
    "    baseurl='https://api.openreview.net', \n",
    "    username=f\"{credentials['username']}\", \n",
    "    password=f\"{credentials['password']}\"\n",
    ")\n",
    "\n",
    "venue_id='auai.org/UAI/2023/Conference'\n",
    "blind_submissions = client.get_all_notes(\n",
    "    invitation=venue_id+\"/-/Blind_Submission\",\n",
    "    details='replies'\n",
    ")\n",
    "submissions = client.get_all_notes(\n",
    "    invitation=venue_id+\"/-/Submission\",\n",
    "    # details='replies'\n",
    ")\n",
    "\n",
    "ids = {\n",
    "    1234: [\n",
    "\n",
    "        'asdf', \n",
    "        'qewr', \n",
    "        'wewrt', \n",
    "        'sdfg'\n",
    "    ],\n",
    "    234: [\n",
    "        'asdf-M7',\n",
    "        'qewr',\n",
    "        'erty'\n",
    "    ]\n",
    "}\n",
    "\n",
    "def private_reader_notes(number):\n",
    "    return [\n",
    "        f\"auai.org/UAI/2023/Conference/Program_Chairs\", \n",
    "        f\"auai.org/UAI/2023/Conference/Paper{number}/Area_Chairs\", \n",
    "        f\"auai.org/UAI/2023/Conference/Paper{number}/Reviewers/Submitted\", \n",
    "        f\"auai.org/UAI/2023/Conference/Paper{number}/Authors\"\n",
    "    ]\n",
    "\n",
    "\n",
    "        \n",
    "for paper_num, review_ids in ids.items():\n",
    "    for id_ in review_ids:\n",
    "        print(paper_num, id_)\n",
    "        note = client.get_note(id_)\n",
    "        print(note.readers)\n",
    "        note.readers = private_reader_notes(paper_num)\n",
    "        print(note.readers)\n",
    "\n",
    "        # client.post_note(note)"
   ]
  },
  {
   "cell_type": "code",
   "execution_count": null,
   "id": "dc33e7d8-3d7b-4922-a4a7-51ae2a7e3623",
   "metadata": {
    "tags": []
   },
   "outputs": [],
   "source": [
    "blind_submissions[0].id\n",
    "blind_submissions[0].number"
   ]
  },
  {
   "cell_type": "code",
   "execution_count": null,
   "id": "24cef7b8-31d7-425f-97f6-0fd2c6917f5d",
   "metadata": {
    "tags": []
   },
   "outputs": [],
   "source": [
    "papers_to_change = [1234, 2345]"
   ]
  },
  {
   "cell_type": "code",
   "execution_count": null,
   "id": "3336da87-d6a5-4539-b9ff-84074fe92f9a",
   "metadata": {
    "tags": []
   },
   "outputs": [],
   "source": [
    "def private_reader_notes(number):\n",
    "    return [\n",
    "        f\"auai.org/UAI/2023/Conference/Program_Chairs\", \n",
    "        f\"auai.org/UAI/2023/Conference/Paper{number}/Area_Chairs\", \n",
    "        f\"auai.org/UAI/2023/Conference/Paper{number}/Reviewers/Submitted\", \n",
    "        f\"auai.org/UAI/2023/Conference/Paper{number}/Authors\"\n",
    "    ]"
   ]
  },
  {
   "cell_type": "code",
   "execution_count": null,
   "id": "5a88bc31-106e-45a0-94a9-a401153bbc7d",
   "metadata": {
    "tags": []
   },
   "outputs": [],
   "source": [
    "ids = []\n",
    "for sub in blind_submissions:\n",
    "    if sub.number in papers_to_change:\n",
    "        ids.append(sub.id)"
   ]
  },
  {
   "cell_type": "code",
   "execution_count": null,
   "id": "aa1b1188-37b8-424e-8c82-2fba9c1f7158",
   "metadata": {
    "tags": []
   },
   "outputs": [],
   "source": [
    "note = client.get_note(ids[211][0])\n",
    "note.readers\n",
    "note.number"
   ]
  },
  {
   "cell_type": "code",
   "execution_count": null,
   "id": "b32eec56-a609-4f20-a09a-5d7e9ea82798",
   "metadata": {
    "tags": []
   },
   "outputs": [],
   "source": [
    "# note = client.get_note('2iO6lcKXkF')\n",
    "note.readers = private_reader_notes(211)\n",
    "print(note.invitation)\n",
    "print(note.content['title'])"
   ]
  },
  {
   "cell_type": "code",
   "execution_count": null,
   "id": "164ef2ca-caea-4686-a9cd-5253cdbf857c",
   "metadata": {
    "tags": []
   },
   "outputs": [],
   "source": [
    "note.readers"
   ]
  },
  {
   "cell_type": "code",
   "execution_count": null,
   "id": "f6eafeb8-680b-43c9-ae2b-c94d5023eab1",
   "metadata": {
    "tags": []
   },
   "outputs": [],
   "source": [
    "client.post_note(note)"
   ]
  },
  {
   "cell_type": "code",
   "execution_count": null,
   "id": "1dde6798-485a-4635-90d7-c83f59dba02e",
   "metadata": {},
   "outputs": [],
   "source": [
    "ids = []\n",
    "for sub in blind_submissions:\n",
    "    if sub.number in papers_to_change:\n",
    "        note = client.get_note(sub.id)\n",
    "        note.readers = private_reader_notes(sub.number)\n",
    "        client.post_note(note)"
   ]
  }
 ],
 "metadata": {
  "kernelspec": {
   "display_name": "Python 3 (ipykernel)",
   "language": "python",
   "name": "python3"
  },
  "language_info": {
   "codemirror_mode": {
    "name": "ipython",
    "version": 3
   },
   "file_extension": ".py",
   "mimetype": "text/x-python",
   "name": "python",
   "nbconvert_exporter": "python",
   "pygments_lexer": "ipython3",
   "version": "3.11.1"
  }
 },
 "nbformat": 4,
 "nbformat_minor": 5
}
