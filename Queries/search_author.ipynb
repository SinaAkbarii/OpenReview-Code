# Search for an (author ,submissions)
* Search for the profile of an author
import openreview
import pandas as pd
import numpy as np


venue_id = 'auai.org/UAI/2024/Conference'

cred_file = open('cred_info.txt', 'r')
client = openreview.api.OpenReviewClient(
    baseurl='https://api2.openreview.net',
    username=cred_file.readline().strip(),
    password=cred_file.readline().strip()
)

cred_file.close()

profile = client.get_profile('name@university.edu')
print(profile)


* Get the list of submissions
profile_notes = client.get_notes(content={'authorids': '~Profile_name'})
print(profile_notes)
